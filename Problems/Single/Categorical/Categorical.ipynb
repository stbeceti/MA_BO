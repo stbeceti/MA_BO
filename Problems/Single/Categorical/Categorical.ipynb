{
 "cells": [
  {
   "cell_type": "code",
   "execution_count": null,
   "id": "f4a27072",
   "metadata": {},
   "outputs": [],
   "source": [
    "%load_ext autoreload\n",
    "%autoreload 2"
   ]
  },
  {
   "cell_type": "code",
   "execution_count": null,
   "id": "1e7a3115",
   "metadata": {},
   "outputs": [],
   "source": [
    "import random\n",
    "\n",
    "import os\n",
    "\n",
    "current_wd = str(os.getcwd())\n",
    "parent_parent_parent = os.path.dirname(os.path.dirname(os.path.dirname(current_wd)))\n",
    "os.chdir(parent_parent_parent)\n",
    "\n",
    "from MyImports import *\n",
    "hv.extension('bokeh')\n",
    "\n",
    "os.chdir(current_wd)\n",
    "\n",
    "seed = 68\n",
    "random.seed(seed)\n",
    "pyro.set_rng_seed(seed)\n",
    "torch.manual_seed(seed);"
   ]
  },
  {
   "cell_type": "code",
   "execution_count": null,
   "id": "0b7927d5",
   "metadata": {},
   "outputs": [],
   "source": [
    "ground_truth = torch.tensor([[1.8], [1.7], [0.4], [0.3], [-1.8]], dtype=torch.float64)"
   ]
  },
  {
   "cell_type": "code",
   "execution_count": null,
   "id": "48fb4637",
   "metadata": {},
   "outputs": [],
   "source": [
    "def update_xtest(model):\n",
    "    min_range = model.kernel.module_1.weight.min().item() - 0.5\n",
    "    max_range = model.kernel.module_1.weight.max().item() + 0.5\n",
    "    \n",
    "    XX = torch.meshgrid((x_con, torch.linspace(min_range, max_range, 100, dtype=torch.float64)), indexing='ij')\n",
    "    X_test = torch.cat((XX[0].reshape(-1,1), XX[1].reshape(-1,1)), dim=1)\n",
    "    \n",
    "    return X_test"
   ]
  },
  {
   "cell_type": "code",
   "execution_count": null,
   "id": "0aa599d7",
   "metadata": {},
   "outputs": [],
   "source": [
    "def update_pseudo(model):\n",
    "    model_cpy = PyroBO(X=torch.cat((model.X.T[0:1].T, model.kernel.module_1(model.X.T[1:].T)), dim=1).data,\n",
    "                       y=model.y,\n",
    "                       kernel=gp.kernels.RBF(input_dim=input_dim),\n",
    "                       acq_fun=model.acq_fun)\n",
    "    \n",
    "    #model_cpy.kernel.lengthscale = pyro.nn.PyroSample(pyro.distributions.Beta(1,1))\n",
    "    model_cpy.update()\n",
    "    \n",
    "    return model_cpy"
   ]
  },
  {
   "cell_type": "code",
   "execution_count": null,
   "id": "e79190e1",
   "metadata": {},
   "outputs": [],
   "source": [
    "x_con = torch.linspace(0,5,100, dtype=torch.float64)\n",
    "x_categ1 = torch.tensor([[1,0,0,0,0]], dtype=torch.float64)\n",
    "x_categ2 = torch.tensor([[0,1,0,0,0]], dtype=torch.float64)\n",
    "x_categ3 = torch.tensor([[0,0,1,0,0]], dtype=torch.float64)\n",
    "x_categ4 = torch.tensor([[0,0,0,1,0]], dtype=torch.float64)\n",
    "x_categ5 = torch.tensor([[0,0,0,0,1]], dtype=torch.float64)\n",
    "\n",
    "X_categ = [x_categ1, x_categ2, x_categ3, x_categ4, x_categ5]\n",
    "\n",
    "num_categ = len(X_categ)"
   ]
  },
  {
   "cell_type": "code",
   "execution_count": null,
   "id": "a4960bdf",
   "metadata": {},
   "outputs": [],
   "source": [
    "y_obj1 = Objective2D(x1=x_con, x2=ground_truth[0], noise=0.)\n",
    "y_obj2 = Objective2D(x1=x_con, x2=ground_truth[1], noise=0.)\n",
    "y_obj3 = Objective2D(x1=x_con, x2=ground_truth[2], noise=0.)\n",
    "y_obj4 = Objective2D(x1=x_con, x2=ground_truth[3], noise=0.)\n",
    "y_obj5 = Objective2D(x1=x_con, x2=ground_truth[4], noise=0.)\n",
    "\n",
    "y_objs = [y_obj1, y_obj2, y_obj3, y_obj4, y_obj5]"
   ]
  },
  {
   "cell_type": "code",
   "execution_count": null,
   "id": "68d6ffaa",
   "metadata": {},
   "outputs": [],
   "source": [
    "plot1 = hv.Curve((x_con, y_obj1), label='Objective')\n",
    "plot2 = hv.Curve((x_con, y_obj2))\n",
    "plot3 = hv.Curve((x_con, y_obj3))\n",
    "plot4 = hv.Curve((x_con, y_obj4))\n",
    "plot5 = hv.Curve((x_con, y_obj5))\n",
    "\n",
    "plots = [plot1, plot2, plot3, plot4, plot5]"
   ]
  },
  {
   "cell_type": "code",
   "execution_count": null,
   "id": "daa5092c",
   "metadata": {},
   "outputs": [],
   "source": [
    "def initialize_model(num_init=2):\n",
    "    X_init = None\n",
    "    for x_categ in X_categ:\n",
    "        new_samples = torch.cat((torch.rand(num_init,1, dtype=torch.float64)*5,\n",
    "                                 x_categ.repeat(num_init,1)), dim=1)\n",
    "        \n",
    "        if X_init is None:\n",
    "            X_init = new_samples\n",
    "        else:\n",
    "            X_init = torch.cat((X_init, new_samples), dim=0)\n",
    "            \n",
    "    y_init = Objective2D(x1=X_init.T[0:1].T, x2=X_init.T[1:].T@ground_truth, noise=noise)\n",
    "    \n",
    "    mappings = OrderedDict({(0.): lambda x: x,\n",
    "                            tuple(range(1, 1+num_categ)): torch.nn.Linear(num_categ, 1,\n",
    "                                                                          bias=False,\n",
    "                                                                          dtype=torch.float64)})\n",
    "    kernel = TransformationKernel(input_dim = input_dim,\n",
    "                                  trans_mappings = mappings)\n",
    "    model = PyroBO(X=X_init,\n",
    "                   y=y_init,\n",
    "                   kernel=kernel,\n",
    "                   acq_fun=ConfidenceBound(input_dim=input_dim,\n",
    "                                           kappa=kappa,\n",
    "                                           maximize=True))\n",
    "    \n",
    "    #model.kernel.lengthscale = pyro.nn.PyroSample(pyro.distributions.Beta(1,1))\n",
    "    model.update()\n",
    "    \n",
    "    return model"
   ]
  },
  {
   "cell_type": "code",
   "execution_count": null,
   "id": "0e720955",
   "metadata": {},
   "outputs": [],
   "source": [
    "X_test_categ = torch.cat((x_con.view(-1,1), x_categ1.repeat(len(x_con),1)), dim=1)\n",
    "\n",
    "for x_categ in X_categ[1:]:\n",
    "    new_x = torch.cat((x_con.view(-1,1), x_categ.repeat(len(x_con), 1)), dim=1)\n",
    "    X_test_categ = torch.cat((X_test_categ, new_x))"
   ]
  },
  {
   "cell_type": "code",
   "execution_count": null,
   "id": "2257dea3",
   "metadata": {},
   "outputs": [],
   "source": [
    "my_X1 = torch.linspace(0,5,100)\n",
    "my_X2 = torch.linspace(-2.5,2.5,100)\n",
    "XX = torch.meshgrid((my_X1, my_X2), indexing='ij')\n",
    "X = torch.cat((XX[0].reshape(-1,1), XX[1].reshape(-1,1)), dim=1)\n",
    "y_obj = Objective2D(x1=XX[0].flatten(), x2=XX[1].flatten(), noise=0.)"
   ]
  },
  {
   "cell_type": "code",
   "execution_count": null,
   "id": "c550454e",
   "metadata": {},
   "outputs": [],
   "source": [
    "data = [(xi.item(), yi.item(), zi.item()) for xi, yi, zi in zip(X.T[0], X.T[1], y_obj)]\n",
    "\n",
    "colors = ['green', 'red', 'blue', 'purple', 'pink']\n",
    "\n",
    "categ1 = hv.Curve((x_con, (ground_truth[0]).repeat(100)), label='categ1').opts(color='green')\n",
    "categ2 = hv.Curve((x_con, (ground_truth[1]).repeat(100)), label='categ2').opts(color='red')\n",
    "categ3 = hv.Curve((x_con, (ground_truth[2]).repeat(100)), label='categ3').opts(color='blue')\n",
    "categ4 = hv.Curve((x_con, (ground_truth[3]).repeat(100)), label='categ4').opts(color='purple')\n",
    "categ5 = hv.Curve((x_con, ground_truth[4].repeat(100)), label='categ5').opts(color='pink')\n",
    "\n",
    "obj_plot = hv.HeatMap(data).opts(cmap='RdBu_r')"
   ]
  },
  {
   "cell_type": "code",
   "execution_count": null,
   "id": "d029281b",
   "metadata": {},
   "outputs": [],
   "source": [
    "hv.extension('bokeh')\n",
    "\n",
    "( obj_plot * categ1*categ2*categ3*categ4*categ5).opts(show_legend=True,\n",
    "                                                      width=550, height=500, legend_position='left')"
   ]
  },
  {
   "cell_type": "code",
   "execution_count": null,
   "id": "22c1050c",
   "metadata": {},
   "outputs": [],
   "source": [
    "def getHeatMap(init_model, y_obj, num_iter=2, params=None):\n",
    "\n",
    "    hmap_dict = OrderedDict()\n",
    "    \n",
    "    for j in range(num_iter):\n",
    "        \n",
    "        if j != 0:\n",
    "            y_next = Objective2D(x1=x_next.T[0:1].T, x2=x_next.T[1:].T@ground_truth, noise=noise)\n",
    "            init_model.add_Observation(x_next, y_next)\n",
    "        \n",
    "        init_model.update()\n",
    "        \n",
    "        print('Iteration {}:\\n noise: {:.2f}, l:{:.2f}, lambda: {:.2f}'.format(j, init_model.noise,\n",
    "                                                                                init_model.kernel.lengthscale,\n",
    "                                                                                init_model.kernel.variance))\n",
    "        if params is not None:\n",
    "            params['noise'].append(init_model.noise)\n",
    "            params['lengthscale'].append(init_model.kernel.lengthscale)\n",
    "            params['lambda'].append(init_model.kernel.variance)\n",
    "            \n",
    "        X_test = update_xtest(init_model)\n",
    "        model_cpy = update_pseudo(init_model)\n",
    "        \n",
    "        data = [(x.item(), y.item(), z.item()) for x,y,z in zip(X_test.T[0], X_test.T[1], model_cpy(X_test)[0].data)]\n",
    "        map_plot = hv.HeatMap(data=data)#, vdims=hv.Dimension('z', range=(y_obj.min()-0.5, y_obj.max()+0.5)))\n",
    "        map_plot = map_plot.opts(cmap='RdBu_r', width=480, colorbar=True, show_legend=False,\n",
    "                                 title='Mean prediction', xlabel='continuous variable', ylabel='categorical variable')\n",
    "        \n",
    "        data = [(x.item(), y.item(), z.item()) for x,y,z in zip(X_test.T[0], X_test.T[1], model_cpy(X_test)[1].data)]\n",
    "        unc_plot = hv.HeatMap(data=data)\n",
    "        unc_plot = unc_plot.opts(cmap='RdBu_r', width=380, colorbar=True,\n",
    "                                 title='Prediction Uncertainty', xlabel='continuous variable', ylabel='categorical variable')\n",
    "\n",
    "        for i in range(len(colors)):\n",
    "            points = model_cpy.X[[(xi.T[1] == init_model.kernel.module_1.weight.T[i]).item() for xi in model_cpy.X]]\n",
    "            points = points.data.numpy()\n",
    "            new_plot = hv.Points((points.T[0], points.T[1]), label='categ{}'.format(i+1))\n",
    "            new_plot= new_plot.opts(color=colors[i], size=5)\n",
    "            map_plot = (map_plot * new_plot).opts(legend_position='left')\n",
    "            unc_plot = (unc_plot * new_plot).opts(show_legend=False)\n",
    "            \n",
    "        data = [(x.item(), y.item(), z.item()) for x,y,z in zip(X_test.T[0],\n",
    "                                                                X_test.T[1],\n",
    "                                                                model_cpy.get_acq_values(X_test).data)]\n",
    "        acq_plot = hv.HeatMap(data=data).opts(cmap='plasma', width=480, colorbar=True,\n",
    "                                              title='Acquisition function', xlabel='continuous variable', ylabel='categorical variable')\n",
    "        \n",
    "        x_next = init_model.next_sample(X_test_categ).data\n",
    "        x_next_trans = torch.cat((x_next.T[0:1], init_model.kernel.module_1(x_next.T[1:].T)), dim=1).data.numpy()\n",
    "        print('next: ', x_next)\n",
    "        next_plot = hv.Points(x_next_trans).opts(marker='diamond', color='white', size=7)\n",
    "        acq_plot = acq_plot * next_plot\n",
    "        \n",
    "        hmap_dict[j] = (map_plot + unc_plot + acq_plot).opts(shared_axes=False).cols(2)\n",
    "        \n",
    "        \n",
    "    return hmap_dict"
   ]
  },
  {
   "cell_type": "code",
   "execution_count": null,
   "id": "5f7e7cbb",
   "metadata": {},
   "outputs": [],
   "source": [
    "def simpleMeanPlot(model, x_con, X_categ):\n",
    "    weights = model.kernel.module_1.weight\n",
    "    model_cpy = update_pseudo(model)\n",
    "    \n",
    "    plots = None\n",
    "    for idx in range(num_categ):\n",
    "        \n",
    "        x_categ = torch.cat((x_con.view(-1,1), X_categ[idx].repeat(len(x_con),1)),dim=1).data\n",
    "        X = torch.cat((x_con.view(-1,1), weights.T[0].T.repeat(len(x_con),1)),dim=1).data\n",
    "        \n",
    "        mean_values = model(x_categ)[0].data.numpy()\n",
    "        unc_values = model(x_categ)[1].data.numpy()\n",
    "        acq_values = model.get_acq_values(x_categ).data.numpy()\n",
    "        \n",
    "        x_next = model_cpy.next_sample(X).data.numpy()\n",
    "        \n",
    "        indices = [(xi == weights.T[idx]).item() for xi in model_cpy.X.T[1:].T]\n",
    "        \n",
    "        new_plot = simple1D_Plot(X.T[0:1].T.numpy(),\n",
    "                                 model_cpy.X.T[0:1].T[indices].data.numpy(),\n",
    "                                 model_cpy.y[indices],\n",
    "                                 mean_values,\n",
    "                                 unc_values,\n",
    "                                 acq_values,\n",
    "                                 x_next.T[0:1].T,\n",
    "                                 idx==0)[0].opts(width=480, height=400)\n",
    "        if plots is None:\n",
    "            plots = new_plot\n",
    "        else:\n",
    "            plots = plots + new_plot\n",
    "            \n",
    "    return plots.cols(1)"
   ]
  },
  {
   "cell_type": "code",
   "execution_count": null,
   "id": "e20ecdf9",
   "metadata": {},
   "outputs": [],
   "source": [
    "import random\n",
    "\n",
    "def set_seed(seed):\n",
    "    torch.backends.cudnn.deterministic = True\n",
    "    #torch.backends.cudnn.benchmark = False\n",
    "    torch.manual_seed(seed)\n",
    "    torch.cuda.manual_seed_all(seed)\n",
    "    np.random.seed(seed)\n",
    "    random.seed(seed)\n",
    "    pyro.set_rng_seed(seed)"
   ]
  },
  {
   "cell_type": "markdown",
   "id": "aca9d94d",
   "metadata": {},
   "source": [
    "## Extended BO - noise-free"
   ]
  },
  {
   "cell_type": "code",
   "execution_count": null,
   "id": "0ce051b4",
   "metadata": {
    "scrolled": true
   },
   "outputs": [],
   "source": [
    "num_init = 3\n",
    "num_iter = 30\n",
    "noise = 0.\n",
    "params = {'noise': [], 'lengthscale': [], 'lambda': []}\n",
    "seed = 682\n",
    "set_seed(seed)\n",
    "\n",
    "input_dim = 2\n",
    "kappa = 10.\n",
    "\n",
    "bo_model = initialize_model(num_init)"
   ]
  },
  {
   "cell_type": "code",
   "execution_count": null,
   "id": "620331db",
   "metadata": {
    "scrolled": false
   },
   "outputs": [],
   "source": [
    "hmaps1 = hv.HoloMap(getHeatMap(bo_model, Objective2D, num_iter=num_iter, params=params),\n",
    "                    kdims='Iterations')\n",
    "hv.output(hmaps1.collate(), widget_location='top')"
   ]
  },
  {
   "cell_type": "code",
   "execution_count": null,
   "id": "3baab45e",
   "metadata": {},
   "outputs": [],
   "source": [
    "hv.save(hmaps1.collate(), 'extendedCategorical.auto')"
   ]
  },
  {
   "cell_type": "code",
   "execution_count": null,
   "id": "07557609",
   "metadata": {},
   "outputs": [],
   "source": [
    "hv.extension('plotly')\n",
    "\n",
    "lengthscale_nf_plot = hv.Curve((torch.tensor(params['lengthscale']))).opts(height=200)\n",
    "outputscale_nf_plot = hv.Curve((torch.tensor(params['lambda']))).opts(height=200)\n",
    "noise_nf_plot = hv.Curve((torch.tensor(params['noise']))).opts(height=200)\n",
    "\n",
    "(lengthscale_nf_plot + outputscale_nf_plot + noise_nf_plot).opts(shared_axes=False).cols(1)"
   ]
  },
  {
   "cell_type": "markdown",
   "id": "2a1b45bd",
   "metadata": {},
   "source": [
    "## Extended BO - noisy"
   ]
  },
  {
   "cell_type": "code",
   "execution_count": null,
   "id": "a52a9ce5",
   "metadata": {
    "scrolled": false
   },
   "outputs": [],
   "source": [
    "set_seed(seed)\n",
    "noise = 0.8\n",
    "params = {'noise': [], 'lengthscale': [], 'lambda': []}\n",
    "\n",
    "bo_model = initialize_model(num_init)"
   ]
  },
  {
   "cell_type": "code",
   "execution_count": null,
   "id": "aeb9b0fa",
   "metadata": {},
   "outputs": [],
   "source": [
    "X_test = update_xtest(bo_model)"
   ]
  },
  {
   "cell_type": "code",
   "execution_count": null,
   "id": "2d27c223",
   "metadata": {
    "scrolled": false
   },
   "outputs": [],
   "source": [
    "hv.extension('bokeh')\n",
    "\n",
    "hmaps2 = hv.HoloMap(getHeatMap(bo_model, Objective2D, num_iter=num_iter, params=params),\n",
    "                    kdims='Iterations')\n",
    "hv.output(hmaps2.collate(), widget_location='top')"
   ]
  },
  {
   "cell_type": "code",
   "execution_count": null,
   "id": "46248f22",
   "metadata": {},
   "outputs": [],
   "source": [
    "hv.save(hmaps2.collate(), 'extendedCategorical_noisy.auto')"
   ]
  },
  {
   "cell_type": "code",
   "execution_count": null,
   "id": "c0dcc747",
   "metadata": {},
   "outputs": [],
   "source": [
    "hv.extension('plotly')\n",
    "\n",
    "lengthscale_n_plot = hv.Curve((torch.tensor(params['lengthscale']))).opts(height=200)\n",
    "outputscale_n_plot = hv.Curve((torch.tensor(params['lambda']))).opts(height=200)\n",
    "noise_n_plot = hv.Curve((torch.tensor(params['noise']))).opts(height=200)\n",
    "\n",
    "(lengthscale_n_plot + outputscale_n_plot + noise_n_plot).opts(shared_axes=False).cols(1)"
   ]
  },
  {
   "cell_type": "code",
   "execution_count": null,
   "id": "8f116fc1",
   "metadata": {},
   "outputs": [],
   "source": []
  }
 ],
 "metadata": {
  "kernelspec": {
   "display_name": "Python 3 (ipykernel)",
   "language": "python",
   "name": "python3"
  },
  "language_info": {
   "codemirror_mode": {
    "name": "ipython",
    "version": 3
   },
   "file_extension": ".py",
   "mimetype": "text/x-python",
   "name": "python",
   "nbconvert_exporter": "python",
   "pygments_lexer": "ipython3",
   "version": "3.9.12"
  }
 },
 "nbformat": 4,
 "nbformat_minor": 5
}
