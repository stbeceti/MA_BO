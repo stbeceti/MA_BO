{
 "cells": [
  {
   "cell_type": "markdown",
   "id": "be61af46",
   "metadata": {},
   "source": [
    "## Imports"
   ]
  },
  {
   "cell_type": "code",
   "execution_count": null,
   "id": "41e57652",
   "metadata": {},
   "outputs": [],
   "source": [
    "%load_ext autoreload\n",
    "%autoreload 2"
   ]
  },
  {
   "cell_type": "code",
   "execution_count": null,
   "id": "bd051f3d",
   "metadata": {},
   "outputs": [],
   "source": [
    "import random\n",
    "\n",
    "import os\n",
    "\n",
    "current_wd = str(os.getcwd())\n",
    "parent_parent_parent = os.path.dirname(os.path.dirname(os.path.dirname(current_wd)))\n",
    "os.chdir(parent_parent_parent)\n",
    "\n",
    "from MyImports import *\n",
    "hv.extension('plotly')\n",
    "\n",
    "os.chdir(current_wd)\n",
    "\n",
    "seed = 42\n",
    "pyro.set_rng_seed(seed)\n",
    "torch.manual_seed(seed);"
   ]
  },
  {
   "cell_type": "markdown",
   "id": "ef30a639",
   "metadata": {},
   "source": [
    "# Objective - continuous"
   ]
  },
  {
   "cell_type": "code",
   "execution_count": null,
   "id": "94e01408",
   "metadata": {},
   "outputs": [],
   "source": [
    "def _generator():\n",
    "    res = torch.tensor(0.)\n",
    "    while(True):\n",
    "        yield(torch.sin(res)*2.5)\n",
    "        res += 0.3\n",
    "gen = _generator()\n",
    "\n",
    "def get_current_context():\n",
    "    return next(gen)"
   ]
  },
  {
   "cell_type": "code",
   "execution_count": null,
   "id": "25e5e68c",
   "metadata": {},
   "outputs": [],
   "source": [
    "hv.extension('bokeh', logo=False)\n",
    "\n",
    "x1 = torch.linspace(0,5,100, dtype=torch.float64)\n",
    "x2 = torch.linspace(-2.5,2.5,100, dtype=torch.float64)\n",
    "xx1, xx2 = [a.flatten() for a in torch.meshgrid((x1, x2), indexing='xy')]\n",
    "\n",
    "y_obj = Objective2D(x1=xx1, x2=xx2, noise=0.0).data\n",
    "\n",
    "obj_plot = hv.HeatMap([(x.item(), y.item(), z.item()) for x,y,z in zip(xx1, xx2, y_obj)],\n",
    "                      label='Objective Curve',\n",
    "                     ).opts(cmap='RdBu_r',\n",
    "                            height=400,\n",
    "                            width=400,\n",
    "                            colorbar=True,\n",
    "                            title='2D Objective Function',\n",
    "                            xlabel='continuous variable',\n",
    "                            ylabel='continuous context',\n",
    "                            ylim=(-2.45,2.45))\n",
    "context = get_current_context()\n",
    "context_val = hv.Curve((x1, context.repeat(len(x1),)), label='Context value').opts(color='green')\n",
    "(obj_plot * context_val).opts(height=380,show_legend=True, legend_position='bottom')"
   ]
  },
  {
   "cell_type": "code",
   "execution_count": null,
   "id": "ff1162cd",
   "metadata": {},
   "outputs": [],
   "source": [
    "def getHmapPlots(init_model,\n",
    "                 X_test,\n",
    "                 objective,\n",
    "                 num_iter,\n",
    "                 show_legend=True,\n",
    "                 xlabel=None, ylabel=None,\n",
    "                 init_samples=None):\n",
    "    \n",
    "    models = {0: init_model}\n",
    "    model_dict = {0: simplePlot(*extractPlotData(X_test.view(-1,1), init_model),\n",
    "                                show_legend=show_legend,\n",
    "                                xlabel=xlabel,\n",
    "                                ylabel=ylabel,\n",
    "                                init_samples=init_samples)}\n",
    "    print('Iteration 0: \\n noise: {:.2f}, l: {:.2f}, lambda: {:.2f}'.format(init_model.noise,\n",
    "                                                                             init_model.kernel.lengthscale_unconstrained.exp(),\n",
    "                                                                             init_model.kernel.variance_unconstrained.exp()))\n",
    "    \n",
    "    lengthscale.append(init_model.kernel.lengthscale_unconstrained.exp())\n",
    "    outputscale.append(init_model.kernel.variance_unconstrained.exp())\n",
    "    noise_.append(init_model.noise)\n",
    "    \n",
    "    model_dict[0] = hv.Layout(model_dict[0][0] + model_dict[0][1]).cols(1)\n",
    "    \n",
    "    for i in range(1,num_iter+1):\n",
    "        previous = models[i-1]\n",
    "        next_sample = previous.next_sample(X_test.view(-1,1))\n",
    "        mod = PyroBO(X=previous.X,\n",
    "                     y=previous.y,\n",
    "                     kernel=previous.kernel,\n",
    "                     noise=previous.noise,\n",
    "                     jitter=previous.jitter,\n",
    "                     acq_fun=previous.acq_fun)\n",
    "        \n",
    "        context = get_current_context()\n",
    "        print('Context value: ', context)\n",
    "        \n",
    "        mod.update()\n",
    "        mod.add_Observation(next_sample, objective(x1=next_sample, x2=context, noise=noise))\n",
    "        mod.update()\n",
    "        models[i] = mod\n",
    "        model_dict[i] = simplePlot(*extractPlotData(X_test.view(-1,1), mod),\n",
    "                                   show_legend=show_legend,\n",
    "                                   xlabel=xlabel,\n",
    "                                   ylabel=ylabel,\n",
    "                                   init_samples=init_samples)\n",
    "        model_dict[i] = hv.Layout(model_dict[i][0].opts(height=300)\n",
    "                                  + model_dict[i][1]).cols(1)\n",
    "        \n",
    "        print('Iteration {}: \\n noise: {:.2f}, l: {:.2f}, lambda: {:.2f}'.format(i,\n",
    "                                                                                  init_model.noise,\n",
    "                                                                                  init_model.kernel.lengthscale_unconstrained.exp(),\n",
    "                                                                                  init_model.kernel.variance_unconstrained.exp()))\n",
    "        \n",
    "        lengthscale.append(init_model.kernel.lengthscale_unconstrained.exp())\n",
    "        outputscale.append(init_model.kernel.variance_unconstrained.exp())\n",
    "        noise_.append(init_model.noise)\n",
    "        \n",
    "    return model_dict"
   ]
  },
  {
   "cell_type": "markdown",
   "id": "b29006c4",
   "metadata": {},
   "source": [
    "## Classical BO"
   ]
  },
  {
   "cell_type": "code",
   "execution_count": null,
   "id": "b0e9e5c3",
   "metadata": {},
   "outputs": [],
   "source": [
    "pyro.set_rng_seed(55)\n",
    "\n",
    "noise = 0.0\n",
    "init_num = 20\n",
    "input_dim = 1\n",
    "num_iter = 30\n",
    "kappa = 10.\n",
    "\n",
    "X_init = torch.cat((torch.rand(init_num,1, dtype=torch.float64)*5,\n",
    "                    torch.rand(init_num,1, dtype=torch.float64)*5-2.5),\n",
    "                   dim=1) #torch.tensor([[0.49, -1.5], [3.4, 2.1], [4.52, 0.3]], dtype=torch.float64)\n",
    "\n",
    "y_init = Objective2D(x1=X_init.T[0].T, x2=X_init.T[1].T, noise=noise)\n",
    "\n",
    "cl_model = PyroBO(X_init.T[0:1].T, y_init, kernel=gp.kernels.RBF(input_dim=input_dim),\n",
    "                  acq_fun=ConfidenceBound(input_dim=input_dim,\n",
    "                                          kappa=kappa,\n",
    "                                          maximize=True))\n",
    "cl_model.update()"
   ]
  },
  {
   "cell_type": "code",
   "execution_count": null,
   "id": "80a3f0a2",
   "metadata": {},
   "outputs": [],
   "source": [
    "lengthscale = []\n",
    "outputscale = []\n",
    "noise_ = []\n",
    "\n",
    "X_test = torch.linspace(0,5,100, dtype=torch.float64).reshape(-1,1)\n",
    "hmap1 = hv.HoloMap(getHmapPlots(cl_model, X_test, Objective2D, num_iter, xlabel='continuous variable', ylabel=' ',\n",
    "                                init_samples=(X_init.T[0], y_init)),\n",
    "                   kdims='iteration')\n",
    "\n",
    "hv.output(hmap1.collate(), widget_location='top')"
   ]
  },
  {
   "cell_type": "code",
   "execution_count": null,
   "id": "ef18deca",
   "metadata": {},
   "outputs": [],
   "source": [
    "hv.extension('plotly')\n",
    "\n",
    "lengthscale_cl_plot = hv.Curve(((torch.tensor(lengthscale))),\n",
    "                                label='classical BO').opts(xlabel='iteration', ylabel=' ', height=200)\n",
    "outputscale_cl_plot = hv.Curve((torch.tensor(outputscale)),\n",
    "                                label='classical BO').opts(xlabel='iteration', ylabel=' ', height=200)\n",
    "noise_cl_plot = hv.Curve((torch.tensor(noise_)),\n",
    "                          label='classical BO').opts(xlabel='iteration', ylabel=' ', height=200)"
   ]
  },
  {
   "cell_type": "code",
   "execution_count": null,
   "id": "9ec27060",
   "metadata": {},
   "outputs": [],
   "source": [
    "hv.save(hmap1.collate(), 'contextClassic.auto')"
   ]
  },
  {
   "cell_type": "markdown",
   "id": "238338ac",
   "metadata": {},
   "source": [
    "## Classical BO - noisy"
   ]
  },
  {
   "cell_type": "code",
   "execution_count": null,
   "id": "cbfe8360",
   "metadata": {},
   "outputs": [],
   "source": [
    "noise = 0.5\n",
    "\n",
    "y_init = Objective2D(x1=X_init.T[0].T, x2=X_init.T[1].T, noise=noise)\n",
    "\n",
    "cln_model = PyroBO(X_init.T[0:1].T, y_init, kernel=gp.kernels.RBF(input_dim=input_dim),\n",
    "                  acq_fun=ConfidenceBound(input_dim=input_dim,\n",
    "                                          kappa=kappa,\n",
    "                                          maximize=True))\n",
    "cln_model.update()\n",
    "\n",
    "lengthscale = []\n",
    "outputscale = []\n",
    "noise_ = []\n",
    "\n",
    "X_test = torch.linspace(0,5,100, dtype=torch.float64).reshape(-1,1)\n",
    "hmap2 = hv.HoloMap(getHmapPlots(cln_model, X_test, Objective2D, num_iter, xlabel='continuous variable', ylabel=' ',\n",
    "                                init_samples=(X_init.T[0], y_init)),\n",
    "                   kdims='iteration')\n",
    "\n",
    "hv.output(hmap2.collate(), widget_location='top')"
   ]
  },
  {
   "cell_type": "code",
   "execution_count": null,
   "id": "e11dcfa2",
   "metadata": {},
   "outputs": [],
   "source": [
    "hv.extension('plotly')\n",
    "\n",
    "lengthscale_cln_plot = hv.Curve(((torch.tensor(lengthscale))),\n",
    "                                label='classical BO').opts(xlabel='iteration', ylabel=' ', height=200)\n",
    "outputscale_cln_plot = hv.Curve((torch.tensor(outputscale)),\n",
    "                                label='classical BO').opts(xlabel='iteration', ylabel=' ', height=200)\n",
    "noise_cln_plot = hv.Curve((torch.tensor(noise_)),\n",
    "                          label='classical BO').opts(xlabel='iteration', ylabel=' ', height=200)"
   ]
  },
  {
   "cell_type": "code",
   "execution_count": null,
   "id": "55ac3cdc",
   "metadata": {},
   "outputs": [],
   "source": [
    "hv.save(hmap2.collate(), 'contextClassic_noisy.auto')"
   ]
  },
  {
   "cell_type": "markdown",
   "id": "276e0e40",
   "metadata": {},
   "source": [
    "## Extended BO"
   ]
  },
  {
   "cell_type": "code",
   "execution_count": null,
   "id": "9c5db5b8",
   "metadata": {},
   "outputs": [],
   "source": [
    "hv.extension('bokeh')"
   ]
  },
  {
   "cell_type": "code",
   "execution_count": null,
   "id": "bc2f0cb3",
   "metadata": {},
   "outputs": [],
   "source": [
    "noise = 0.\n",
    "input_dim = 2\n",
    "\n",
    "y_init = Objective2D(x1=X_init.T[0].T, x2=X_init.T[1].T, noise=noise)\n",
    "kernel = gp.kernels.RBF(input_dim=input_dim)\n",
    "\n",
    "bo_model = PyroBO(X_init, y_init, kernel=kernel, acq_fun=ConfidenceBound(input_dim=input_dim,\n",
    "                                                                         kappa=kappa,\n",
    "                                                                         maximize=True))\n",
    "bo_model.update()"
   ]
  },
  {
   "cell_type": "code",
   "execution_count": null,
   "id": "fc7845b7",
   "metadata": {},
   "outputs": [],
   "source": [
    "X_test = torch.cat((xx1.reshape(-1,1), xx2.reshape(-1,1)), dim=1)"
   ]
  },
  {
   "cell_type": "code",
   "execution_count": null,
   "id": "20c1f2b0",
   "metadata": {},
   "outputs": [],
   "source": [
    "acqs = OrderedDict()"
   ]
  },
  {
   "cell_type": "code",
   "execution_count": null,
   "id": "09fb8db2",
   "metadata": {},
   "outputs": [],
   "source": [
    "def getHeatMap(init_model, X_test, update_context, objective, num_iter=2, precision=100, init_samples=None,\n",
    "               fontsize = {'title': 15, 'xlabel': 14, 'ylabel': 14, 'legend': 14}):\n",
    "    model_dict = OrderedDict()\n",
    "    \n",
    "    for i in range(num_iter+1):\n",
    "        \n",
    "        if i != 0:\n",
    "            init_model.add_Observation(x_next, objective(x1=x_next.T[0:1], x2=x_next.T[1:], noise=noise))\n",
    "            init_model.update()\n",
    "            \n",
    "        print('Iteration {}:\\n noise: {:.2f}, l: {:.2f}, lambda: {:.2f}'.format(i,\n",
    "                                                                                 init_model.noise,\n",
    "                                                                                 init_model.kernel.lengthscale_unconstrained.exp(),\n",
    "                                                                                 init_model.kernel.variance_unconstrained.exp()))\n",
    "\n",
    "        lengthscale.append(init_model.kernel.lengthscale_unconstrained.exp())\n",
    "        outputscale.append(init_model.kernel.variance_unconstrained.exp())\n",
    "        noise_.append(init_model.noise)\n",
    "\n",
    "        context = update_context()\n",
    "        print('Context value: ', context)\n",
    "        x_test_context = torch.cat((X_test.T[0].T[:precision].reshape(-1,1), context.repeat(len(x1), 1)), dim=1)\n",
    "        context_marker = hv.Curve((x_test_context.T[0],\n",
    "                                   x_test_context.T[1]),\n",
    "                                  label='Current context').opts(color='green')\n",
    "\n",
    "        acqs[i] = (init_model.get_acq_values(x_test_context).data, context)\n",
    "        x_next = init_model.next_sample(x_test_context)\n",
    "\n",
    "        next_point = hv.Points(x_next, label='Next sample').opts(color='red', size=6)\n",
    "\n",
    "        mean_pred = init_model(X_test)[0].data\n",
    "        data = [(x.item(), y.item(), z.item()) for x,y,z in zip(X_test.T[0], X_test.T[1], mean_pred)]\n",
    "\n",
    "        train_points = hv.Points((init_model.X.T[0],\n",
    "                                  init_model.X.T[1]),\n",
    "                                 label='Iteration Points').opts(color='black', size=5)\n",
    "\n",
    "        if init_samples is not None:\n",
    "            train_points = train_points * hv.Points((init_samples[0].T[0],\n",
    "                                                     init_samples[0].T[1]),\n",
    "                                                    label='Initial Points').opts(color='orange', size=5)\n",
    "\n",
    "            mean_plot = hv.HeatMap(data).opts(cmap='RdBu_r',\n",
    "                                              zlim=(y_obj.min(), y_obj.max()),\n",
    "                                              width=580,\n",
    "                                              colorbar=True,\n",
    "                                              title='Mean prediction',\n",
    "                                              xlabel='continous variable',\n",
    "                                              ylabel='continous context') * train_points * context_marker\n",
    "\n",
    "            acq_values = init_model.get_acq_values(X_test).data\n",
    "\n",
    "            data = [(x.item(), y.item(), z.item()) for x,y,z in zip(X_test.T[0],\n",
    "                                                                    X_test.T[1],\n",
    "                                                                    acq_values)]\n",
    "\n",
    "            acq_plot = hv.HeatMap(data).opts(title='Acquisition function',\n",
    "                                             xlabel='continous variable',\n",
    "                                             ylabel='continous context',\n",
    "                                             cmap='plasma',\n",
    "                                             colorbar=True,\n",
    "                                             width=580,\n",
    "                                             show_legend=True,\n",
    "                                            ) * train_points * context_marker * next_point\n",
    "            acq_plot = acq_plot.opts(legend_position='left')\n",
    "\n",
    "            unc_pred = init_model(X_test)[1].data\n",
    "\n",
    "            data = [(x.item(), y.item(), z.item()) for x,y,z in zip(X_test.T[0],\n",
    "                                                                    X_test.T[1],\n",
    "                                                                    unc_pred)]\n",
    "\n",
    "            unc_plot = hv.HeatMap(data).opts(title='Uncertainty of prediction',\n",
    "                                             xlabel='continuous variable',\n",
    "                                             ylabel='continuous context',\n",
    "                                             cmap='RdBu_r',\n",
    "                                             colorbar=True,\n",
    "                                             width=380) * train_points * context_marker * next_point\n",
    "            unc_plot = unc_plot.opts(show_legend=False)\n",
    "\n",
    "            model_dict[i] = ((mean_plot*next_point).opts(show_legend=False, fontsize=fontsize) +\n",
    "                             unc_plot.opts(fontsize=fontsize) +\n",
    "                             acq_plot.opts(fontsize=fontsize)).opts(shared_axes=False).cols(2)\n",
    "\n",
    "    return model_dict"
   ]
  },
  {
   "cell_type": "code",
   "execution_count": null,
   "id": "355e41cf",
   "metadata": {
    "scrolled": false
   },
   "outputs": [],
   "source": [
    "lengthscale = []\n",
    "outputscale = []\n",
    "noise_ = []\n",
    "\n",
    "hmap3 = hv.HoloMap(getHeatMap(bo_model, X_test, get_current_context, Objective2D, num_iter,\n",
    "                              init_samples=(X_init, y_init)), kdims='iteration')\n",
    "hv.output(hmap3.collate(), widget_location='top')"
   ]
  },
  {
   "cell_type": "code",
   "execution_count": null,
   "id": "7ffedb15",
   "metadata": {},
   "outputs": [],
   "source": [
    "hv.extension('bokeh')\n",
    "\n",
    "hv.save(hmap3.collate(), 'contextExtended.auto')"
   ]
  },
  {
   "cell_type": "code",
   "execution_count": null,
   "id": "546baade",
   "metadata": {},
   "outputs": [],
   "source": [
    "lengthscale_ex_plot = hv.Curve(((torch.tensor(lengthscale))),\n",
    "                               label='extended BO').opts(xlabel='iteration', ylabel=' ', height=200)\n",
    "outputscale_ex_plot = hv.Curve((torch.tensor(outputscale)),\n",
    "                               label='extended BO').opts(xlabel='iteration', ylabel=' ', height=200)\n",
    "noise_ex_plot = hv.Curve((torch.tensor(noise_)),\n",
    "                         label='extended BO').opts(xlabel='iteration', ylabel=' ', height=200)"
   ]
  },
  {
   "cell_type": "code",
   "execution_count": null,
   "id": "b5a0b3ec",
   "metadata": {},
   "outputs": [],
   "source": [
    "hv.extension('plotly')\n",
    "\n",
    "num_init = 1\n",
    "\n",
    "acq_curve = hv.Curve((x1, acqs[num_init][0])).opts(xlim=(-0.1, 5.1),\n",
    "                                                   title='Context value: {:.2f}'.format(acqs[num_init][1]))\n",
    "acq_next = torch.cat((x1[int(acqs[num_init][0].argmax())].reshape(-1), acqs[num_init][0].max().reshape(-1)))\n",
    "(acq_curve * hv.Scatter((acq_next[0], acq_next[1])).opts(color='red', size=9)).opts(height=300, width=600)"
   ]
  },
  {
   "cell_type": "markdown",
   "id": "facf24b1",
   "metadata": {},
   "source": [
    "## Extended BO - noisy"
   ]
  },
  {
   "cell_type": "code",
   "execution_count": null,
   "id": "8a46abb2",
   "metadata": {},
   "outputs": [],
   "source": [
    "noise=0.5\n",
    "\n",
    "y_init = Objective2D(x1=X_init.T[0:1].T, x2=X_init.T[1:].T, noise=noise)\n",
    "kernel = gp.kernels.RBF(input_dim=input_dim)\n",
    "\n",
    "bo_model = PyroBO(X_init, y_init, kernel=kernel, acq_fun=ConfidenceBound(input_dim=input_dim,\n",
    "                                                                         kappa=kappa,\n",
    "                                                                         maximize=True))\n",
    "bo_model.update()"
   ]
  },
  {
   "cell_type": "code",
   "execution_count": null,
   "id": "850c2ef7",
   "metadata": {},
   "outputs": [],
   "source": [
    "hv.extension('bokeh')\n",
    "\n",
    "lengthscale = []\n",
    "outputscale = []\n",
    "noise_ = []\n",
    "\n",
    "hmap4 = hv.HoloMap(getHeatMap(bo_model, X_test, get_current_context, Objective2D, num_iter,\n",
    "                              init_samples=(X_init, y_init)), kdims='iteration')\n",
    "hv.output(hmap4.collate(), widget_location='top')"
   ]
  },
  {
   "cell_type": "code",
   "execution_count": null,
   "id": "8c434b3d",
   "metadata": {},
   "outputs": [],
   "source": [
    "hv.save(hmap4.collate(), 'contextExtended_noisy.auto')"
   ]
  },
  {
   "cell_type": "code",
   "execution_count": null,
   "id": "ee860431",
   "metadata": {},
   "outputs": [],
   "source": [
    "lengthscale_exn_plot = hv.Curve(((torch.tensor(lengthscale))),\n",
    "                                label='extended BO').opts(xlabel='iteration', ylabel=' ', height=200)\n",
    "outputscale_exn_plot = hv.Curve((torch.tensor(outputscale)),\n",
    "                                label='extended BO').opts(xlabel='iteration', ylabel=' ', height=200)\n",
    "noise_exn_plot = hv.Curve((torch.tensor(noise_)),\n",
    "                          label='extended BO').opts(xlabel='iteration', ylabel=' ', height=200)"
   ]
  },
  {
   "cell_type": "code",
   "execution_count": null,
   "id": "dde297ca",
   "metadata": {},
   "outputs": [],
   "source": [
    "hv.extension('plotly')\n",
    "\n",
    "vline = hv.VLine(4).opts(line_color='red')\n",
    "vline_cl = hv.VLine(14).opts(line_color='red', line_dash='dot')\n",
    "vline_noisy = hv.VLine(9).opts(line_color='red')\n",
    "vline_cl_noisy = hv.VLine(6).opts(line_color='red', line_dash='dot')\n",
    "\n",
    "(lengthscale_ex_plot.opts(height=200, color='blue', dash='solid', show_legend=True) * \n",
    " lengthscale_cl_plot.opts(color='blue', dash='dot', show_legend=True, title='length scale of noise free data') +\n",
    " lengthscale_cln_plot.opts(color='blue', dash='dot', title='length scale of noisy data') * \n",
    " lengthscale_exn_plot.opts(color='blue', dash='solid')).cols(1)"
   ]
  },
  {
   "cell_type": "code",
   "execution_count": null,
   "id": "3b8e4ab3",
   "metadata": {},
   "outputs": [],
   "source": [
    "(outputscale_ex_plot.opts(height=200, color='blue', dash='solid', show_legend=True) * \n",
    " outputscale_cl_plot.opts(color='blue', dash='dot', show_legend=True, title='output scale of noise free data') +\n",
    " outputscale_cln_plot.opts(color='blue', dash='dot', title='output scale of noisy data') * \n",
    " outputscale_exn_plot.opts(color='blue', dash='solid')).cols(1)"
   ]
  },
  {
   "cell_type": "code",
   "execution_count": null,
   "id": "027676d2",
   "metadata": {},
   "outputs": [],
   "source": [
    "hline = hv.HLine(0.5).opts(line_color='black')\n",
    "\n",
    "(noise_ex_plot.opts(height=200, color='blue', dash='solid', show_legend=True) * \n",
    " noise_cl_plot.opts(color='blue', dash='dot', show_legend=True, title='noise of noise free data') +\n",
    " (noise_cln_plot.opts(color='blue', dash='dot', title='noise of noisy data') *\n",
    "  noise_exn_plot.opts(color='blue', dash='solid') * \n",
    "  hline)).cols(1)"
   ]
  },
  {
   "cell_type": "code",
   "execution_count": null,
   "id": "4d1126aa",
   "metadata": {},
   "outputs": [],
   "source": []
  }
 ],
 "metadata": {
  "kernelspec": {
   "display_name": "Python 3 (ipykernel)",
   "language": "python",
   "name": "python3"
  },
  "language_info": {
   "codemirror_mode": {
    "name": "ipython",
    "version": 3
   },
   "file_extension": ".py",
   "mimetype": "text/x-python",
   "name": "python",
   "nbconvert_exporter": "python",
   "pygments_lexer": "ipython3",
   "version": "3.9.12"
  }
 },
 "nbformat": 4,
 "nbformat_minor": 5
}
